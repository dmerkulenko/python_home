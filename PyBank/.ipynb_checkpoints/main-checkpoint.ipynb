{
 "cells": [
  {
   "cell_type": "code",
   "execution_count": 29,
   "id": "20d5b415-ae59-4032-a91e-a812218e71fb",
   "metadata": {},
   "outputs": [
    {
     "name": "stdout",
     "output_type": "stream",
     "text": [
      "Financial Analysis\n",
      "-----------------------\n",
      "Total months: 86\n",
      "Total: $38382578\n",
      "Average Change: -2315.1176470588234\n",
      "Greatest Increase in Profits: Feb-2012 ($1926159)\n",
      "Greatest Decrease in Profits: Sep-2013 ($-2196167)\n"
     ]
    }
   ],
   "source": [
    "with open('budget_data.csv', 'r') as fin:\n",
    "    data = fin.readlines()\n",
    "    number_of_month = len(data) - 1\n",
    "    print('Financial Analysis')\n",
    "    print(\"-----------------------\")\n",
    "    print('Total months: ' + str(number_of_month))\n",
    "    net_amount = 0\n",
    "    prev = -1\n",
    "    max_increase = -1\n",
    "    max_increase_month = ''\n",
    "    max_decrease = 10**9\n",
    "    max_decrease_month = ''\n",
    "    net_changes = 0\n",
    "    for entry in data[1:]:\n",
    "        date, amount = entry.split(',')\n",
    "        int_amount = int(amount)\n",
    "        net_amount += int_amount\n",
    "        if prev != -1:\n",
    "            current_change = int_amount - prev\n",
    "            if current_change > max_increase:\n",
    "                max_increase = current_change\n",
    "                max_increase_month = date\n",
    "            if current_change < max_decrease:\n",
    "                max_decrease = current_change\n",
    "                max_decrease_month = date\n",
    "            net_changes += current_change\n",
    "        prev = int_amount\n",
    "    \n",
    "   \n",
    "    print('Total: $' + str(net_amount))\n",
    "    print('Average Change: ' + str(net_changes / (number_of_month - 1)))      \n",
    "    print('Greatest Increase in Profits: ' + max_increase_month + ' ($' + str(max_increase) + ')')\n",
    "    print('Greatest Decrease in Profits: ' + max_decrease_month + ' ($' + str(max_decrease) + ')')\n",
    "    \n",
    "    "
   ]
  }
 ],
 "metadata": {
  "kernelspec": {
   "display_name": "Python 3",
   "language": "python",
   "name": "python3"
  },
  "language_info": {
   "codemirror_mode": {
    "name": "ipython",
    "version": 3
   },
   "file_extension": ".py",
   "mimetype": "text/x-python",
   "name": "python",
   "nbconvert_exporter": "python",
   "pygments_lexer": "ipython3",
   "version": "3.8.8"
  }
 },
 "nbformat": 4,
 "nbformat_minor": 5
}
